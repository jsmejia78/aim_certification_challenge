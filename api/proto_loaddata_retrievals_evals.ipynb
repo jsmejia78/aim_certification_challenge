{
  "cells": [
    {
      "cell_type": "markdown",
      "metadata": {},
      "source": [
        "# Prototyping Notebook\n",
        "\n",
        "Prototyping for data loading, retrievals and evals\n",
        "\n"
      ]
    },
    {
      "cell_type": "code",
      "execution_count": null,
      "metadata": {},
      "outputs": [
        {
          "name": "stdout",
          "output_type": "stream",
          "text": [
            "Document(metadata={'source': '/home/jsmejia/the_ai_eng_bootcamp/code/aim_certification_challenge/data/pd_blogs/data_tweens_and_preteens_10-12/015_Beyond Discipline for Preteens.txt'}, page_content='Beyond Discipline for Preteens\\n\\nThe preteen transition is a tough one for most parents. Kids start to be heavily influenced by their desire to be respected by their peer group and that often conflicts with the standards we set at home. Meanwhile, we lose the automatic respect that most young children feel for their parents, and we have to start earning it. Parents who rely on punishment to control their kids (including timeouts and consequences) realize in the preteen years that it no longer works. In fact, we learn that it\\'s actually impossible to control them when they\\'re out of our sight, which they often are. Many parents worry that they have to raise their voice constantly, but their influence is still waning. Unfortunately, if we\\'ve relied on punishment, we\\'ve neglected to lay the groundwork that will insure that a preteen \"acts right.\" That groundwork includes a strong parent-child relationship so the child really WANTS to cooperate, and doesn\\'t want to disappoint the parent. It also includes empathizing with feelings so the child gains the ability to regulate his emotions, which lets him regulate his behavior. Unfortunately, conventional parenting, which includes punishment, actually erodes the parent-child relationship so the child is less motivated to cooperate. And punishment doesn\\'t help children learn to regulate their emotions, so they develop less self-discipline. By contrast, kids who aren\\'t punished, but are instead lovingly guided to make reparations and solve problems, are earlier to develop internal discipline and a strong moral sense. So it works a lot better to just parent with respectful, positive guidance right from the beginning. That raises preteens who are respectful, considerate, responsible, self-disciplined and delightful, right through the teen years. But what if you\\'ve been using punishment (such as consequences) and your child is now ten and acting disrespectful? It isn\\'t too late, but you have some catching up to do. Basically, you hold on to your high expectations. But instead of punishing your child for not meeting them, you give them whatever support they need to meet them. That support might be structural -- earlier bedtime, no screens during the week. It will also need to be emotional -- providing a listening ear, empathy, validation -- so that your child can make their best decisions, rather than being driven by big emotions. And your support will also need to be geared toward supporting your child to develop the executive function skills of the prefrontal cortex, by asking the right questions. Here\\'s how. 1. Start by committing to model a respectful tone. If you\\'re yelling, stop. Really. Kids lose respect for parents who yell, so you have less influence. They also learn that yelling is how to express emotions and solve problems, so they yell, too. It\\'s not necessary to yell to get your child\\'s attention if you have a good relationship. 2. Focus on strengthening the relationship. Start by listening. Your goal is a strong relationship, where your child feels seen, heard, understood and valued. That way, your child will tell you the truth and will want to share with you. And when you set a limit (\"Homework before screen time!\") or express an expectation (\"We speak civilly in this house\") your child will want to cooperate. Make sure you have one-on-one time with each child every day, in which you mostly listen. Train yourself not to overreact when your child shares something with you. If your child is \"too busy\" to connect, give foot massages and connect through her passions, for instance by listening to her music with her. You can\\'t hope to have any influence if your kid doesn\\'t enjoy being with you. 3. Help your child develop good judgment by reflecting on her actions. to develop the executive function skills of the prefrontal cortex, try asking good questions. Questions work infinitely better than lectures. Try to calm yourself first, so your tone is warm, supportive and curious. If your child feels judged, shamed, or that punishment is looming, there will be no learning, and probably no honest answers. \"What were you wanting to have happen when you did this?\" \"Was there some part of you that said \\'Don\\'t do this\\'?\" \"What got into the way of you listening to that part of you?\" \"How did that work out for you?\" \"How did it work out for other people involved?\" \"What else could you have done?\" \"Right, you could have done X...how do you think that would have worked out? What would have happened then?\" 4. Resist threats and punishment. Self discipline develops when the child CHOOSES to give up what they want for something they want more. What do they want more? To have a good relationship with you, to trust you, to know they can count on your love even when they mess up. That is the \"roots\" that allows them to spread their \"wings\" and learn to fly safely. So focus on the relationship instead of punishment. What about \"giving\" consequences? That\\'s punishment. \"You should have done your homework last night. Next time I see you doing a rush job in the morning like this, you lose your screen time later today.\" This parent is concerned, naturally, about her child. But this approach has some unintended consequences. First, the child feels controlled, so she\\'s more likely to rebel against you. Second, she doesn\\'t end up taking responsibility for her behavior -- she just gets mad at how unfair you\\'re being, and blames you. And if this happens often, she just stops trying to do the homework in the morning, and hides the fact that she hasn\\'t done it. What if, instead, you empathized, asked her questions and \"wondered\" to help her reflect on the effects of her actions? \"I see you\\'re trying hard to get that math homework done this morning. Not much fun to have to rush like that, is it? It also means it\\'s harder to do your best work and catch your mistakes. Let\\'s figure out a way for you to finish your homework at night so you don\\'t feel so stressed in the morning.....\" The natural result of not getting her homework done the night before is having to rush to do it in the morning. If you can help her notice that effect herself -- instead of using threats and control, which will just make her rebel -- she\\'s more likely to take responsibility to act on that knowledge. What if your child doesn\\'t step up and handle himself responsibly? Very common, especially where screen usage is concerned. You\\'ll probably need to make rules to limit screen time during the week, so homework can get done. 5. Agree with your child on non-negotiable family rules. One of the keys to helping preteens WANT to cooperate is letting them have some say in their lives. Discuss your family rules and make a written agreement. Stick to the important stuff, like respectful tone, homework, family dinners, and screen time limits. At the same time, discuss what will happen if rules get broken. No, not punishment! Repair! How will your child make a repair and restore your trust? You\\'ll find that when you discuss this in advance kids often volunteer heftier penalties than you would! Your insistence on \"REPAIR\" for infractions, as opposed to consequences, will help motivate your child to follow the rules. 6. Focus on teaching your child to repair her mistakes. Worried that your child isn\\'t being \"held accountable\"? Introduce the concept of reparations. This isn\\'t a consequence (punishment) that you impose. This is when you ask your child what he can do to make the situation better now. For instance, if he says something mean to his sister, he\\'ll need to do some repair work on that relationship. If he breaks something, he\\'ll need to help pay for a replacement. But remember that if you think up the reparation and force it down his throat, it only makes sense that he\\'ll reject it. Instead, let this be an empowering opportunity for him to learn that we all make mistakes -- and we have the responsibility to take action to make things better. It\\'s like spilling the milk. We don\\'t cry over it, and there\\'s no blame or shame -- but we do have to clean it up when we spill it. 7. Stop protecting your child from natural consequences. When we worry about our child, we often intervene to protect her from natural consequences. So if your child can\\'t seem to remember to turn in the permission slip for the class trip, you might want to help her brainstorm how she can remember when she gets to school tomorrow. But if she forgets, she\\'ll learn an invaluable lesson. Don\\'t rescue her. 8. Be kind but firm. Assume your child will test you to see if you\\'re serious. Stay cheerful while you keep enforcing the limits. For instance, be there during homework time and be sure your child stays on track with it instead of spending the time playing computer games with friends. If you have relied on punishment rather than helping your child develop inner discipline, this could take some time (weeks or even months). But after awhile of enforcing your rule, it will become a habit, your child will reap the benefits of it, and he will begin to do it on his own. This transition takes time and patience. But you\\'ll end up with a more cooperative, respectful and responsible kid, and a sweeter, stronger relationship with your child. That\\'s a true gift any time, but especially before the teen years start!')\n",
            "473\n"
          ]
        }
      ],
      "source": [
        "import sys\n",
        "import os\n",
        "import pprint\n",
        "from data_loader import DataLoader\n",
        "\n",
        "pp = pprint.PrettyPrinter(width=80)  # wrap after 80 characters\n",
        "\n",
        "# Use current working directory instead of __file__\n",
        "notebook_dir = os.getcwd()\n",
        "\n",
        "# Adjust path to point to base_folder (relative to where you're running the notebook)\n",
        "base_folder = os.path.abspath(os.path.join(notebook_dir, \"..\"))  # or adjust accordingly\n",
        "\n",
        "# Add base_folder to sys.path\n",
        "if base_folder not in sys.path:\n",
        "    sys.path.append(base_folder)\n",
        "\n",
        "# Use the loader\n",
        "data_loader = DataLoader(\"pd_blogs\")\n",
        "loaded_data = data_loader.load_data()\n",
        "\n",
        "#pp.pprint(loaded_data[1])\n",
        "pp.pprint(len(loaded_data))\n",
        "\n"
      ]
    }
  ],
  "metadata": {
    "kernelspec": {
      "display_name": ".venv",
      "language": "python",
      "name": "python3"
    },
    "language_info": {
      "codemirror_mode": {
        "name": "ipython",
        "version": 3
      },
      "file_extension": ".py",
      "mimetype": "text/x-python",
      "name": "python",
      "nbconvert_exporter": "python",
      "pygments_lexer": "ipython3",
      "version": "3.13.5"
    }
  },
  "nbformat": 4,
  "nbformat_minor": 2
}
