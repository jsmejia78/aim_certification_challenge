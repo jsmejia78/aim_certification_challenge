{
  "cells": [
    {
      "cell_type": "markdown",
      "metadata": {},
      "source": [
        "# Prototyping Notebook\n",
        "\n",
        "Prototyping for data loading, retrievals and evals\n",
        "\n"
      ]
    },
    {
      "cell_type": "code",
      "execution_count": 14,
      "metadata": {},
      "outputs": [
        {
          "name": "stdout",
          "output_type": "stream",
          "text": [
            "473\n"
          ]
        }
      ],
      "source": [
        "import sys\n",
        "import os\n",
        "import pprint\n",
        "from data_loader import DataLoader\n",
        "\n",
        "pp = pprint.PrettyPrinter(width=80)  # wrap after 80 characters\n",
        "\n",
        "# Use current working directory instead of __file__\n",
        "notebook_dir = os.getcwd()\n",
        "\n",
        "# Adjust path to point to base_folder (relative to where you're running the notebook)\n",
        "base_folder = os.path.abspath(os.path.join(notebook_dir, \"..\"))  # or adjust accordingly\n",
        "\n",
        "# Add base_folder to sys.path\n",
        "if base_folder not in sys.path:\n",
        "    sys.path.append(base_folder)\n",
        "\n",
        "# Use the loader\n",
        "data_loader = DataLoader(\"pd_blogs\")\n",
        "loaded_data = data_loader.load_data()\n",
        "\n",
        "#pp.pprint(loaded_data[1])\n",
        "pp.pprint(len(loaded_data))\n",
        "\n"
      ]
    },
    {
      "cell_type": "markdown",
      "metadata": {},
      "source": [
        "Create Vector Store"
      ]
    },
    {
      "cell_type": "code",
      "execution_count": 38,
      "metadata": {},
      "outputs": [],
      "source": [
        "\n",
        "import vector_stores\n",
        "import importlib\n",
        "importlib.reload(vector_stores)\n",
        "from vector_stores import VectorStoresManager\n",
        "\n",
        "vector_stores_manager = VectorStoresManager(\n",
        "    MODE=\"baseline\",\n",
        "    loaded_data=loaded_data,\n",
        "    chunk_config={\"enabled\": True, \"params\": {\"chunk_size\": 2000, \"chunk_overlap\": 500}},\n",
        "    embeddings_model_name=\"text-embedding-3-small\",\n",
        "    chat_model=\"gpt-4.1-nano\",\n",
        "    collection_name=\"Rag Loaded Data Baseline\"\n",
        ")\n",
        "\n",
        "vectorstore = vector_stores_manager.get_base_vectorstore()    \n"
      ]
    },
    {
      "cell_type": "code",
      "execution_count": 39,
      "metadata": {},
      "outputs": [],
      "source": [
        "retriever = vectorstore.as_retriever(search_kwargs={\"k\": 3})"
      ]
    },
    {
      "cell_type": "code",
      "execution_count": 40,
      "metadata": {},
      "outputs": [
        {
          "name": "stdout",
          "output_type": "stream",
          "text": [
            "[Document(metadata={'source': '/home/jsmejia/the_ai_eng_bootcamp/code/aim_certification_challenge/data/pd_blogs/data_toddlers_1p5-3/015_The Cure for Whining.txt', '_id': 'dd219f091c944ddfad94faafd3eee654', '_collection_name': 'Rag Loaded Data Baseline'}, page_content='The Cure for Whining'),\n",
            " Document(metadata={'source': '/home/jsmejia/the_ai_eng_bootcamp/code/aim_certification_challenge/data/pd_blogs/data_preschoolers_3-5/004_The Cure for Whining.txt', '_id': '471ab642b45b4af8bbd9613e5e54f978', '_collection_name': 'Rag Loaded Data Baseline'}, page_content='The Cure for Whining'),\n",
            " Document(metadata={'source': '/home/jsmejia/the_ai_eng_bootcamp/code/aim_certification_challenge/data/pd_blogs/data_toddlers_1p5-3/015_The Cure for Whining.txt', '_id': '60acd29e86a1478d8b38f7cdac3a8cd5', '_collection_name': 'Rag Loaded Data Baseline'}, page_content='let off stress by simply having a meltdown, but as they get older they gain more self-control, and begin to whine instead. Be kind in response to his whining until you get home and have a few minutes to spend with him. Then draw him onto your lap, look him in the eye and say \"I notice you were feeling so whiny and sad, Sweetie. Do you just need to cuddle and maybe cry a bit? Everybody needs to cry sometimes. I\\'m right here to hold you.\" 5. Whining because it works. Don’t reward whining, meaning don’t give in and buy the candy. But there is never a reason to be less than kind about it. Responding to his desire with empathy (\"You are so disappointed that I said no; you really wish you could have that candy...\" ) helps him feel less alone with his disappointment. And there\\'s nothing wrong with finding something else that will make him happy, like a shiny red apple or a trip to the playground. That teaches him to look for and propose win/win solutions. If, by contrast, he feels like he only gets what he wants by whining, he’ll become an expert whiner. 6. Whining because you\\'ll do anything to stop it. Why do parents hate whining so much? Because whining is your little one\\'s more mature form of crying. She\\'s letting you know she needs your attention. And human grownups are programmed to react to whining much as we do to crying, so the needs of tiny humans get met. So the minute you hear that whine, you react with anxiety. You\\'ll do anything to stop it. But if you can take a deep breath and remind yourself that there\\'s no emergency, you\\'ll feel a lot better, and you\\'ll parent better. Don\\'t let your automatic crisis mode of fight or flight kick in. Don\\'t feel like you have to solve the problem, or do anything at all except love your child. Just smile at your child and give her a big hug. Most of the time, the whining will stop.')]\n"
          ]
        }
      ],
      "source": [
        "results =  retriever.invoke(\"What is the cure for whinning\")\n",
        "\n",
        "pp.pprint(results)"
      ]
    },
    {
      "cell_type": "code",
      "execution_count": 37,
      "metadata": {},
      "outputs": [
        {
          "ename": "AttributeError",
          "evalue": "'Document' object has no attribute 'keys'",
          "output_type": "error",
          "traceback": [
            "\u001b[31m---------------------------------------------------------------------------\u001b[39m",
            "\u001b[31mAttributeError\u001b[39m                            Traceback (most recent call last)",
            "\u001b[36mCell\u001b[39m\u001b[36m \u001b[39m\u001b[32mIn[37]\u001b[39m\u001b[32m, line 1\u001b[39m\n\u001b[32m----> \u001b[39m\u001b[32m1\u001b[39m \u001b[38;5;28mprint\u001b[39m(\u001b[43mloaded_data\u001b[49m\u001b[43m[\u001b[49m\u001b[32;43m0\u001b[39;49m\u001b[43m]\u001b[49m\u001b[43m.\u001b[49m\u001b[43mkeys\u001b[49m())\n",
            "\u001b[36mFile \u001b[39m\u001b[32m~/the_ai_eng_bootcamp/code/aim_certification_challenge/.venv/lib/python3.13/site-packages/pydantic/main.py:991\u001b[39m, in \u001b[36mBaseModel.__getattr__\u001b[39m\u001b[34m(self, item)\u001b[39m\n\u001b[32m    988\u001b[39m     \u001b[38;5;28;01mreturn\u001b[39;00m \u001b[38;5;28msuper\u001b[39m().\u001b[34m__getattribute__\u001b[39m(item)  \u001b[38;5;66;03m# Raises AttributeError if appropriate\u001b[39;00m\n\u001b[32m    989\u001b[39m \u001b[38;5;28;01melse\u001b[39;00m:\n\u001b[32m    990\u001b[39m     \u001b[38;5;66;03m# this is the current error\u001b[39;00m\n\u001b[32m--> \u001b[39m\u001b[32m991\u001b[39m     \u001b[38;5;28;01mraise\u001b[39;00m \u001b[38;5;167;01mAttributeError\u001b[39;00m(\u001b[33mf\u001b[39m\u001b[33m'\u001b[39m\u001b[38;5;132;01m{\u001b[39;00m\u001b[38;5;28mtype\u001b[39m(\u001b[38;5;28mself\u001b[39m).\u001b[34m__name__\u001b[39m\u001b[38;5;132;01m!r}\u001b[39;00m\u001b[33m object has no attribute \u001b[39m\u001b[38;5;132;01m{\u001b[39;00mitem\u001b[38;5;132;01m!r}\u001b[39;00m\u001b[33m'\u001b[39m)\n",
            "\u001b[31mAttributeError\u001b[39m: 'Document' object has no attribute 'keys'"
          ]
        }
      ],
      "source": [
        "print(loaded_data[0].keys())"
      ]
    }
  ],
  "metadata": {
    "kernelspec": {
      "display_name": ".venv",
      "language": "python",
      "name": "python3"
    },
    "language_info": {
      "codemirror_mode": {
        "name": "ipython",
        "version": 3
      },
      "file_extension": ".py",
      "mimetype": "text/x-python",
      "name": "python",
      "nbconvert_exporter": "python",
      "pygments_lexer": "ipython3",
      "version": "3.13.5"
    }
  },
  "nbformat": 4,
  "nbformat_minor": 2
}
