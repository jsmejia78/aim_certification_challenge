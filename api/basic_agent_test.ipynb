{
  "cells": [
    {
      "cell_type": "markdown",
      "metadata": {},
      "source": [
        "# Prototyping Notebook\n",
        "\n",
        "Prototyping for data loading, retrievals and evals\n",
        "\n"
      ]
    },
    {
      "cell_type": "code",
      "execution_count": 1,
      "metadata": {},
      "outputs": [
        {
          "name": "stdout",
          "output_type": "stream",
          "text": [
            "AIM-CERT-LANGGRAPH-BASE-PIPE\n"
          ]
        }
      ],
      "source": [
        "from langgraph_agent import LangGraphAgent\n",
        "from dotenv import load_dotenv\n",
        "import os\n",
        "import nest_asyncio\n",
        "import asyncio\n",
        "\n",
        "nest_asyncio.apply()\n",
        "\n",
        "load_dotenv()\n",
        "\n",
        "assert os.getenv(\"OPENAI_API_KEY\"), \"Missing OPENAI_API_KEY\"\n",
        "assert os.getenv(\"TAVILY_API_KEY\"), \"Missing TAVILY_API_KEY\"\n",
        "assert os.getenv(\"LANGCHAIN_API_KEY\"), \"Missing LANGCHAIN_API_KEY\"\n",
        "assert os.getenv(\"COHERE_API_KEY\"), \"Missing COHERE_API_KEY\"\n",
        "\n",
        "langsmith_api_key = os.getenv(\"LANGCHAIN_API_KEY\")\n",
        "\n",
        "os.environ[\"LANGCHAIN_TRACING_V2\"] = \"true\"\n",
        "langsmith_project_name = \"AIM-CERT-LANGGRAPH-BASE-PIPE\"\n",
        "os.environ[\"LANGCHAIN_PROJECT\"] = langsmith_project_name\n",
        "print(langsmith_project_name)\n",
        "\n",
        "MODE = \"PIPETEST\"\n",
        "\n",
        "from langgraph_agent import LangGraphAgent, RetrievalEnums\n",
        "\n",
        "Agent = LangGraphAgent(retriever_mode=RetrievalEnums.PARENT_DOCUMENT, \n",
        "                    MODE=MODE, \n",
        "                    langchain_project_name= langsmith_project_name)\n",
        "                    "
      ]
    },
    {
      "cell_type": "code",
      "execution_count": 2,
      "metadata": {},
      "outputs": [
        {
          "name": "stdout",
          "output_type": "stream",
          "text": [
            "\n",
            "\n",
            "Query: how can stop my kids from whinning in 2025 (latest information)? - use your RAG tool or web search tool to get context to asnwer my question\n",
            "\n",
            "\n",
            "Responce: To stop your kids from whining in 2025, here are some effective strategies based on the latest advice:\n",
            "\n",
            "1. Acknowledge Feelings Calmly: Understand that whining often comes from feelings of helplessness or disconnection. Stay calm and connect with your child before addressing the behavior.\n",
            "\n",
            "2. Praise Efforts and Use Positive Reinforcement: Consistently praise your child's efforts when they ask nicely or communicate effectively, teaching them that polite requests get better results than whining.\n",
            "\n",
            "3. Set Clear Expectations and Consequences: Let your child know kindly but firmly that whining is not acceptable, and if it continues, you may choose to ignore the whining to avoid reinforcing it.\n",
            "\n",
            "4. Redirect and Teach Alternatives: Gently redirect their behavior and teach them how to express their needs or feelings in a respectful, calm way.\n",
            "\n",
            "5. Model the Behavior: Show them how to handle frustration or disappointment with calmness and respectful communication.\n",
            "\n",
            "6. Use Whining as an Opportunity to Teach: Help your child learn to identify and express their emotions and needs constructively.\n",
            "\n",
            "These approaches focus on connection, kindness, and teaching rather than punishment, which supports your child's emotional development and autonomy.\n",
            "\n",
            "If you want, I can share more detailed techniques or resources to help implement these strategies. Would you like that?\n",
            "\n",
            "\n",
            "Context: {'search': [\"1. How to Stop Your Child's Whining | 700 Children's Blog\\nBy consistently praising their efforts and gently redirecting them, you'll teach them that asking nicely gets better results than whining ever\\nSource: https://www.nationwidechildrens.org/family-resources-education/700childrens/2022/04/how-to-stop-your-childs-whining\\n\\n2. How to Get Your Kids to Stop Whining—Yes, Really - Let Grow\\nFirst accept and acknowledge the child's feelings and then tell them if the whining continues, you're going to ignore them. When children whine,\\nSource: https://letgrow.org/get-kids-to-stop-whining/\\n\\n3. How to Stop Your Child's Whining - Good Inside\\nThe first thing to focus on is staying calm - this is because a whining child is actually feeling helpless and disconnected, and they need to absorb your calm\\nSource: https://www.goodinside.com/blog/how-to-stop-your-childs-whining/\\n\\n4. Mentally Strong Kids: How to Stop the Whining - DFWChild\\nCounselor Kate Jennings, in Fort Worth, shares advice on effective ways for parents to respond to their kids when they won't stop whining.\\nSource: https://dfwchild.com/mentally-strong-kids-how-to-stop-the-whining/\\n\\n5. Stop Whining - Janet Lansbury\\nA parent writes to Janet that her 7-year-old is constantly whining, pouting, and repeatedly asking her mom for new stuff.\\nSource: https://www.janetlansbury.com/2025/03/stop-whining/\"]}\n",
            "\n",
            "\n",
            "Num tool calls: 1\n",
            "\n",
            "\n"
          ]
        }
      ],
      "source": [
        "\n",
        "Agent.reset_longer_term_memory()\n",
        "user_message = \"how can stop my kids from whinning in 2025 (latest information)? - use your RAG tool or web search tool to get context to asnwer my question\"\n",
        "reply = await Agent.chat(user_message)\n",
        "\n",
        "print(f\"\\n\\nQuery: {user_message}\")\n",
        "print(f\"\\n\\nResponce: {reply['response']}\")\n",
        "print(f\"\\n\\nContext: {reply['context']}\")\n",
        "print(f\"\\n\\nNum tool calls: {reply['metadata']['total_tool_calls']}\\n\\n\")"
      ]
    },
    {
      "cell_type": "code",
      "execution_count": 3,
      "metadata": {},
      "outputs": [
        {
          "name": "stdout",
          "output_type": "stream",
          "text": [
            "\n",
            "\n",
            "Query: was kids whinning in 2024 the same as in 2025?\n",
            "\n",
            "\n",
            "Responce: Kids whining in 2025 is addressed similarly to past years like 2024, focusing on understanding and calmly acknowledging their feelings, rather than punishing the behavior. Current advice emphasizes staying calm, connecting with the child, praising polite communication, setting clear and kind boundaries, and teaching alternative ways to express needs. The goal is to help children feel understood and supported, encouraging them to develop better communication skills rather than resorting to whining. So, while the context may evolve, the core positive discipline principles for handling whining remain consistent.\n",
            "\n",
            "\n",
            "Context: {}\n",
            "\n",
            "\n",
            "Num tool calls: 0\n",
            "\n",
            "\n"
          ]
        }
      ],
      "source": [
        "user_message = \"was kids whinning in 2024 the same as in 2025?\"\n",
        "reply = await Agent.chat(user_message)\n",
        "\n",
        "print(f\"\\n\\nQuery: {user_message}\")\n",
        "print(f\"\\n\\nResponce: {reply['response']}\")\n",
        "print(f\"\\n\\nContext: {reply['context']}\")\n",
        "print(f\"\\n\\nNum tool calls: {reply['metadata']['total_tool_calls']}\\n\\n\")"
      ]
    }
  ],
  "metadata": {
    "kernelspec": {
      "display_name": ".venv",
      "language": "python",
      "name": "python3"
    },
    "language_info": {
      "codemirror_mode": {
        "name": "ipython",
        "version": 3
      },
      "file_extension": ".py",
      "mimetype": "text/x-python",
      "name": "python",
      "nbconvert_exporter": "python",
      "pygments_lexer": "ipython3",
      "version": "3.13.5"
    }
  },
  "nbformat": 4,
  "nbformat_minor": 2
}
