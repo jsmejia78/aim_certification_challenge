{
  "cells": [
    {
      "cell_type": "markdown",
      "metadata": {},
      "source": [
        "# Prototyping Notebook\n",
        "\n",
        "Prototyping for data loading, retrievals and evals\n",
        "\n"
      ]
    },
    {
      "cell_type": "code",
      "execution_count": 4,
      "metadata": {},
      "outputs": [
        {
          "name": "stdout",
          "output_type": "stream",
          "text": [
            "AIM-CERT-LANGGRAPH-BASE-PIPE\n"
          ]
        }
      ],
      "source": [
        "from langgraph_agent import LangGraphAgent\n",
        "from dotenv import load_dotenv\n",
        "import os\n",
        "import nest_asyncio\n",
        "import asyncio\n",
        "\n",
        "nest_asyncio.apply()\n",
        "\n",
        "load_dotenv()\n",
        "\n",
        "assert os.getenv(\"OPENAI_API_KEY\"), \"Missing OPENAI_API_KEY\"\n",
        "assert os.getenv(\"TAVILY_API_KEY\"), \"Missing TAVILY_API_KEY\"\n",
        "assert os.getenv(\"LANGCHAIN_API_KEY\"), \"Missing LANGCHAIN_API_KEY\"\n",
        "assert os.getenv(\"COHERE_API_KEY\"), \"Missing COHERE_API_KEY\"\n",
        "\n",
        "langsmith_api_key = os.getenv(\"LANGCHAIN_API_KEY\")\n",
        "\n",
        "os.environ[\"LANGCHAIN_TRACING_V2\"] = \"true\"\n",
        "langsmith_project_name = \"AIM-CERT-LANGGRAPH-BASE-PIPE\"\n",
        "os.environ[\"LANGCHAIN_PROJECT\"] = langsmith_project_name\n",
        "print(langsmith_project_name)\n",
        "\n",
        "MODE = \"PIPETEST\"\n",
        "\n",
        "from langgraph_agent import LangGraphAgent, RetrievalEnums\n",
        "\n",
        "Agent = LangGraphAgent(retriever_mode=RetrievalEnums.NAIVE, \n",
        "                    MODE=MODE, \n",
        "                    langchain_project_name= langsmith_project_name)\n",
        "                    "
      ]
    },
    {
      "cell_type": "code",
      "execution_count": 9,
      "metadata": {},
      "outputs": [
        {
          "name": "stdout",
          "output_type": "stream",
          "text": [
            "\n",
            "\n",
            "Query: how can stop my kids from whinning in 2025 (latest information)? - use your RAG tool or web search tool to get context to asnwer my question\n",
            "\n",
            "\n",
            "Responce: To help stop your kids from whining, based on the latest information from 2025, here are some positive discipline strategies:\n",
            "\n",
            "1. Acknowledge and Accept Feelings: When your child whines, first recognize and empathize with their feelings. This helps them feel heard and understood, which can reduce the need to whine to get attention.\n",
            "\n",
            "2. Identify the Cause: Notice what is driving the whining. Is it due to an unmet physical need (like hunger or tiredness) or an emotional need? Understanding the root cause is key to addressing it effectively.\n",
            "\n",
            "3. Teach Respectful Requests: Train your child to ask for what they need or want in a respectful and clear way rather than whining. Consistently praise their efforts when they do so nicely.\n",
            "\n",
            "4. Set Clear Boundaries: Kindly but firmly let your child know that whining is not an acceptable way to communicate. You can explain that you will listen when they speak calmly and respectfully.\n",
            "\n",
            "5. Redirect and Ignore Wisely: If whining persists, calmly ignore the whining behavior while continuing to pay attention when they use appropriate communication. This helps them learn that whining does not get results.\n",
            "\n",
            "6. Model Calm and Respect: Show by example how to express needs and emotions calmly and respectfully. Children learn a lot by observing their parents.\n",
            "\n",
            "7. Focus on Solutions Together: Work with your child to find ways to meet their needs that don’t involve whining, encouraging their autonomy and problem-solving skills.\n",
            "\n",
            "Remember, this process takes patience and consistency. Mistakes and setbacks are normal, and it’s important to repair and reconnect if things get tense. The goal is to guide your child kindly and firmly toward better communication habits.\n",
            "\n",
            "If you want more specific advice or examples, I can provide that too!\n",
            "\n",
            "\n",
            "Context: {'search': [\"1. How to Stop Your Child's Whining | 700 Children's Blog\\nBy consistently praising their efforts and gently redirecting them, you'll teach them that asking nicely gets better results than whining ever\\nSource: https://www.nationwidechildrens.org/family-resources-education/700childrens/2022/04/how-to-stop-your-childs-whining\\n\\n2. How to Get Your Kids to Stop Whining—Yes, Really - Let Grow\\nFirst accept and acknowledge the child's feelings and then tell them if the whining continues, you're going to ignore them. When children whine,\\nSource: https://letgrow.org/get-kids-to-stop-whining/\\n\\n3. How to Stop Your Child's Whining in Its Tracks\\nStep one, notice what's driving the whine. Is the unmet need physical or emotional? And then, train your child to ask for what they need respectfully.\\nSource: https://cw.liveyourtruth.com/how-to-stop-your-childs-whining-in-its-tracks/\\n\\n4. Mentally Strong Kids: How to Stop the Whining - DFWChild\\nCounselor Kate Jennings, in Fort Worth, shares advice on effective ways for parents to respond to their kids when they won't stop whining.\\nSource: https://dfwchild.com/mentally-strong-kids-how-to-stop-the-whining/\\n\\n5. Stop Whining - Janet Lansbury\\nA parent writes to Janet that her 7-year-old is constantly whining, pouting, and repeatedly asking her mom for new stuff.\\nSource: https://www.janetlansbury.com/2025/03/stop-whining/\"]}\n",
            "\n",
            "\n",
            "Num tool calls: 2\n",
            "\n",
            "\n"
          ]
        }
      ],
      "source": [
        "\n",
        "Agent.reset_longer_term_memory()\n",
        "user_message = \"how can stop my kids from whinning in 2025 (latest information)? - use your RAG tool or web search tool to get context to asnwer my question\"\n",
        "reply = await Agent.chat(user_message)\n",
        "\n",
        "print(f\"\\n\\nQuery: {user_message}\")\n",
        "print(f\"\\n\\nResponce: {reply['response']}\")\n",
        "print(f\"\\n\\nContext: {reply['context']}\")\n",
        "print(f\"\\n\\nNum tool calls: {reply['metadata']['total_tool_calls']}\\n\\n\")"
      ]
    }
  ],
  "metadata": {
    "kernelspec": {
      "display_name": ".venv",
      "language": "python",
      "name": "python3"
    },
    "language_info": {
      "codemirror_mode": {
        "name": "ipython",
        "version": 3
      },
      "file_extension": ".py",
      "mimetype": "text/x-python",
      "name": "python",
      "nbconvert_exporter": "python",
      "pygments_lexer": "ipython3",
      "version": "3.13.5"
    }
  },
  "nbformat": 4,
  "nbformat_minor": 2
}
